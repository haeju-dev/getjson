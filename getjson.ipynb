{
 "cells": [
  {
   "cell_type": "code",
   "execution_count": 1,
   "metadata": {
    "collapsed": true
   },
   "outputs": [],
   "source": [
    "import json\n",
    "import requests\n",
    "import time\n"
   ]
  },
  {
   "cell_type": "code",
   "execution_count": 2,
   "metadata": {
    "collapsed": true
   },
   "outputs": [],
   "source": [
    "def getjson(requesttype, url, params = None, timeout = 10.0, maxtry = 5, sleeptime = 0.15, headers = None, cookies = None):\n",
    "    '''\n",
    "    :return: python dictionary\n",
    "    :param requesttype: 'get' or 'post', Uppercase Support\n",
    "    :param url: a url\n",
    "    :param params: a python dictionary\n",
    "    :param timeout: timeout of each requests\n",
    "    :param maxtry: \n",
    "    :param sleeptime: \n",
    "    :param headers: \n",
    "    :param cookies: \n",
    "    \n",
    "    usage:\n",
    "    url = 'https://api.bithumb.com/public/ticker/'\n",
    "    param = {'currency' : 'BTC'}\n",
    "    print(getjson(requesttype = 'get', url = url, params = param))\n",
    "     \n",
    "    print(type(result.status_code)) --> int\n",
    "    result = json.loads(str(result.text.strip())) --> OLD\n",
    "    '''\n",
    "    \n",
    "    if type(requesttype) != type(''):\n",
    "        raise Exception('No Request Types')\n",
    "    requesttype = requesttype.upper()\n",
    "    if headers is None:\n",
    "        headers = {\n",
    "            'User-Agent': 'Mozilla/5.0 (Macintosh; Intel Mac OS X 10_11_5) AppleWebKit/537.36 (KHTML, like Gecko) Chrome/50.0.2661.102 Safari/537.36'}\n",
    "    i = 0\n",
    "    result = 0\n",
    "    excepts = list()\n",
    "    while i < maxtry:\n",
    "        try:\n",
    "            if requesttype == 'GET':\n",
    "                if params is None:\n",
    "                    if cookies is None:\n",
    "                        result = requests.get(url = url, timeout = timeout, headers = headers)\n",
    "                    else:\n",
    "                        result = requests.get(url = url, timeout = timeout, headers = headers, cookies = cookies)\n",
    "                    result.raise_for_status()\n",
    "                    if result.status_code == 200:\n",
    "                        result = result.json()\n",
    "                else:\n",
    "                    if cookies is None:\n",
    "                        result = requests.get(url = url, timeout = timeout, params = params, headers = headers)\n",
    "                    else:\n",
    "                        result = requests.get(url = url, timeout = timeout, params = params, headers = headers, cookies = cookies)\n",
    "                    result.raise_for_status()\n",
    "                    if result.status_code == 200:\n",
    "                        result = result.json()\n",
    "                break\n",
    "            \n",
    "            if requesttype == 'POST':\n",
    "                if params is None:\n",
    "                    raise Exception('No Params On Post Request')\n",
    "                else:\n",
    "                    if cookies is None:\n",
    "                        result = requests.post(url = url, timeout = timeout, data = json.dumps(params), headers = headers)\n",
    "                    else:\n",
    "                        result = requests.post(url = url, timeout = timeout, data = json.dumps(params), headers = headers, cookies = cookies)\n",
    "                    result.raise_for_status()\n",
    "                    if result.status_code == 200:\n",
    "                        result = result.json()\n",
    "                break\n",
    "                \n",
    "        except Exception as inst:\n",
    "            excepts.append(inst)\n",
    "            time.sleep(sleeptime)\n",
    "        i += 1\n",
    "    if i == maxtry:\n",
    "        raise Exception('Count over Maxtry Error', excepts)\n",
    "    if result == 0:\n",
    "        raise Exception('Something was wrong in responce', excepts)\n",
    "    return result\n"
   ]
  },
  {
   "cell_type": "code",
   "execution_count": 3,
   "metadata": {},
   "outputs": [
    {
     "name": "stdout",
     "output_type": "stream",
     "text": [
      "{'status': '0000', 'data': {'opening_price': '7372000', 'closing_price': '7525000', 'min_price': '7350000', 'max_price': '7616000', 'average_price': '7505610.5574', 'units_traded': '4566.55569103', 'volume_1day': '4566.55569103', 'volume_7day': '34300.73468841', 'buy_price': '7522000', 'sell_price': '7525000', '24H_fluctate': 153000, '24H_fluctate_rate': '2.07', 'date': '1531075815871'}}\n"
     ]
    }
   ],
   "source": [
    "url = 'https://api.bithumb.com/public/ticker/'\n",
    "param = {'currency' : 'BTC'}\n",
    "print(getjson(requesttype = 'get', url = url, params = param))"
   ]
  },
  {
   "cell_type": "code",
   "execution_count": null,
   "metadata": {},
   "outputs": [],
   "source": []
  }
 ],
 "metadata": {
  "kernelspec": {
   "display_name": "Python 2",
   "language": "python",
   "name": "python2"
  },
  "language_info": {
   "codemirror_mode": {
    "name": "ipython",
    "version": 2
   },
   "file_extension": ".py",
   "mimetype": "text/x-python",
   "name": "python",
   "nbconvert_exporter": "python",
   "pygments_lexer": "ipython2",
   "version": "2.7.6"
  }
 },
 "nbformat": 4,
 "nbformat_minor": 0
}
